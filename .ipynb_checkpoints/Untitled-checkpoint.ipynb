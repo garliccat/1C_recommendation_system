{
 "cells": [
  {
   "cell_type": "markdown",
   "metadata": {},
   "source": [
    "## Simple recommendation system based on data from 1C exported dataset\n",
    "#### Eventually the source dataset can be any kind of data with two features: \n",
    "1. Timestamp (date/time) of sale  \n",
    "2. Item name/Art.  \n",
    "Assuming that all the goods in check/invoice/ etc. were added as a new record in Accountant Database with the same timestamp/datetime record.\n",
    "We can track the dependencies of these goods to meet each other in different sales.  \n",
    "Here i've got the 1C exported dataset with various features, but i need only two of them (timestamp and art.)   \n",
    "\n",
    "|Date Time|Art.|\n",
    "|---|---|\n",
    "|31.01.2020 10:21:47|а Ge 2530/75 напр.750мм для раздвижн. столов-\"книж|\n",
    "|31.01.2020 10:21:47|а  Buoni Подъемно-поворотн. м-зм цельной вставки|\n",
    "|...|...|"
   ]
  },
  {
   "cell_type": "code",
   "execution_count": 2,
   "metadata": {},
   "outputs": [],
   "source": [
    "# initial imports\n",
    "import pandas as pd\n",
    "import numpy as np\n",
    "from pandas import ExcelWriter\n",
    "import glob\n",
    "import datetime\n",
    "from collections import Counter"
   ]
  },
  {
   "cell_type": "markdown",
   "metadata": {},
   "source": [
    "### Initializing catalog dictionary, where we will collect all the items names as keys and Collections of similar goods as values:"
   ]
  },
  {
   "cell_type": "code",
   "execution_count": 4,
   "metadata": {},
   "outputs": [],
   "source": [
    "### main catalog initiate\n",
    "catalog = {}\n",
    "\n",
    "\n",
    "### date parser for 1C\n",
    "dateparse = lambda x: pd.datetime.strptime(x, \"%d.%m.%Y %H:%M:%S\")\n",
    "\n",
    "\n",
    "def adopttocal(art):\n",
    "    #########################################################################\n",
    "    # function builds dictionary of Counters.                               #\n",
    "    # key is the item and the value is counter in which                     #\n",
    "    # it counts all the occurences with other items                         #\n",
    "    # then, getting the item(art, name, or whatever) by key                 #\n",
    "    # you will get the Counter (sorted by number of occurences eventually)  #\n",
    "    # with all the recommended items                                        #\n",
    "    # NOTE: to collect this dict it requires the big datasets               #\n",
    "    #########################################################################\n",
    "    for item in art:\n",
    "        if item in catalog.keys():\n",
    "            temp = catalog[item]\n",
    "            for item_2 in art:\n",
    "                if item_2 != item: # exclude self counting\n",
    "                    temp[item_2] += 1\n",
    "        else:\n",
    "            temp = Counter()\n",
    "            for item_2 in art:\n",
    "                if item_2 != item: # exclude self counting\n",
    "                    temp[item_2] += 1\n",
    "            catalog[item] = temp"
   ]
  },
  {
   "cell_type": "code",
   "execution_count": 7,
   "metadata": {},
   "outputs": [
    {
     "data": {
      "text/html": [
       "<div>\n",
       "<style scoped>\n",
       "    .dataframe tbody tr th:only-of-type {\n",
       "        vertical-align: middle;\n",
       "    }\n",
       "\n",
       "    .dataframe tbody tr th {\n",
       "        vertical-align: top;\n",
       "    }\n",
       "\n",
       "    .dataframe thead th {\n",
       "        text-align: right;\n",
       "    }\n",
       "</style>\n",
       "<table border=\"1\" class=\"dataframe\">\n",
       "  <thead>\n",
       "    <tr style=\"text-align: right;\">\n",
       "      <th></th>\n",
       "      <th>art</th>\n",
       "      <th>timestamp</th>\n",
       "    </tr>\n",
       "    <tr>\n",
       "      <th>date</th>\n",
       "      <th></th>\n",
       "      <th></th>\n",
       "    </tr>\n",
       "  </thead>\n",
       "  <tbody>\n",
       "    <tr>\n",
       "      <th>2020-01-31 11:53:21</th>\n",
       "      <td>а Фрог-N45 мех-м с автоматическим подъемом вст...</td>\n",
       "      <td>1.580472e+09</td>\n",
       "    </tr>\n",
       "    <tr>\n",
       "      <th>2020-01-31 11:53:21</th>\n",
       "      <td>а 1280(D+H)FrZшкант металлический d=8мм</td>\n",
       "      <td>1.580472e+09</td>\n",
       "    </tr>\n",
       "    <tr>\n",
       "      <th>2020-01-31 11:53:21</th>\n",
       "      <td>а CY-83N -Замок кнопочный</td>\n",
       "      <td>1.580472e+09</td>\n",
       "    </tr>\n",
       "    <tr>\n",
       "      <th>2020-01-31 11:42:08</th>\n",
       "      <td>а  K 0401 (Лизард)механизм (R+L) подъема вставки</td>\n",
       "      <td>1.580471e+09</td>\n",
       "    </tr>\n",
       "    <tr>\n",
       "      <th>2020-01-31 11:42:08</th>\n",
       "      <td>а IN 35/750/540  SL м-зм внут. креп.д/стол 750...</td>\n",
       "      <td>1.580471e+09</td>\n",
       "    </tr>\n",
       "  </tbody>\n",
       "</table>\n",
       "</div>"
      ],
      "text/plain": [
       "                                                                   art  \\\n",
       "date                                                                     \n",
       "2020-01-31 11:53:21  а Фрог-N45 мех-м с автоматическим подъемом вст...   \n",
       "2020-01-31 11:53:21            а 1280(D+H)FrZшкант металлический d=8мм   \n",
       "2020-01-31 11:53:21                          а CY-83N -Замок кнопочный   \n",
       "2020-01-31 11:42:08   а  K 0401 (Лизард)механизм (R+L) подъема вставки   \n",
       "2020-01-31 11:42:08  а IN 35/750/540  SL м-зм внут. креп.д/стол 750...   \n",
       "\n",
       "                        timestamp  \n",
       "date                               \n",
       "2020-01-31 11:53:21  1.580472e+09  \n",
       "2020-01-31 11:53:21  1.580472e+09  \n",
       "2020-01-31 11:53:21  1.580472e+09  \n",
       "2020-01-31 11:42:08  1.580471e+09  \n",
       "2020-01-31 11:42:08  1.580471e+09  "
      ]
     },
     "execution_count": 7,
     "metadata": {},
     "output_type": "execute_result"
    }
   ],
   "source": [
    "# importing sales excel files and gluing them together\n",
    "# converting datetime data to unix-type timestamp as integer\n",
    "files = glob.glob(\"datasets/sl*.xlsx\")\n",
    "frames = []\n",
    "for f in files:\n",
    "    df = pd.read_excel(\n",
    "        f,\n",
    "        usecols=[1, 2],\n",
    "        skiprows=7,\n",
    "        index_col=0,\n",
    "        parse_dates=True,\n",
    "        date_parser=dateparse,\n",
    "    )\n",
    "    df.columns = ['art']\n",
    "    df.index.name = 'date'\n",
    "    frames.append(df)\n",
    "sales = pd.concat(frames, axis=0, sort=False)\n",
    "sales['timestamp'] = sales.index.astype(int) / 10**9\n",
    "sales.head()"
   ]
  },
  {
   "cell_type": "markdown",
   "metadata": {},
   "source": [
    "## The dictionary building part.\n",
    "### Making the dataset of unique timestamps (sales) with list of each item within this sale."
   ]
  },
  {
   "cell_type": "code",
   "execution_count": 9,
   "metadata": {},
   "outputs": [
    {
     "name": "stdout",
     "output_type": "stream",
     "text": [
      "\n",
      "Top 5 recommended items for  a Ge 655/110 м-зм д/столов, 110см,раздв.892мм :\n",
      "a Ge 655/70 м-зм д/столов, 708мм,раздв.492мм\n",
      "а 0135 замок для стола L=35мм\n",
      "a Ge 655/55 м-зм д/столов, 558мм,раздв.342мм\n",
      "a Ge 655/80 м-зм д/столов, 808мм,раздв.592мм\n",
      "a Ge 655/90 м-зм д/столов, 908мм,раздв.692мм\n"
     ]
    }
   ],
   "source": [
    "sales.groupby(by='timestamp')['art'].apply(list).map(adopttocal)\n",
    "\n",
    "# you can fetch by item name, but here we are fetching just for example by number of key\n",
    "# and for example first 5 most valuable items\n",
    "art_number = 5\n",
    "\n",
    "print('\\nTop {} recommended items for '.format(str(art_number)), list(catalog.keys())[art_number], ':')\n",
    "# print('\\n', catalog[list(catalog.keys())[5]].most_common(5))\n",
    "for art, _ in catalog[list(catalog.keys())[art_number]].most_common(5):\n",
    "    print(art)"
   ]
  },
  {
   "cell_type": "code",
   "execution_count": null,
   "metadata": {},
   "outputs": [],
   "source": []
  }
 ],
 "metadata": {
  "kernelspec": {
   "display_name": "Python 3",
   "language": "python",
   "name": "python3"
  },
  "language_info": {
   "codemirror_mode": {
    "name": "ipython",
    "version": 3
   },
   "file_extension": ".py",
   "mimetype": "text/x-python",
   "name": "python",
   "nbconvert_exporter": "python",
   "pygments_lexer": "ipython3",
   "version": "3.7.4"
  }
 },
 "nbformat": 4,
 "nbformat_minor": 4
}
